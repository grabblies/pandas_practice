{
 "cells": [
  {
   "cell_type": "code",
   "execution_count": 1,
   "metadata": {
    "collapsed": true
   },
   "outputs": [],
   "source": [
    "import numpy as np\n",
    "import pandas as pd"
   ]
  },
  {
   "cell_type": "markdown",
   "metadata": {},
   "source": [
    "# Loading Data"
   ]
  },
  {
   "cell_type": "code",
   "execution_count": 6,
   "metadata": {
    "collapsed": false
   },
   "outputs": [],
   "source": [
    "\n",
    "stop_data = pd.read_csv('./data/2015_Austin_traffic_stops.csv', parse_dates=[1,4])"
   ]
  },
  {
   "cell_type": "markdown",
   "metadata": {},
   "source": [
    "# Row Processing"
   ]
  },
  {
   "cell_type": "code",
   "execution_count": 29,
   "metadata": {
    "collapsed": false
   },
   "outputs": [
    {
     "data": {
      "text/plain": [
       "Index([u'HA_Arrest_Key', u'arrest_date', u'HA_YEAR', u'HA_MONTH',\n",
       "       u'birth_date', u'HA_DAY_OF_WEEK', u'HA_SERVICE', u'officer_id',\n",
       "       u'HA_Race_Sex', u'HA_Road_Class', u'HA_VEH_SEARCH', u'HA_ACCIDENT',\n",
       "       u'HA_REASON_WARN', u'HA_REASON_CITA', u'HA_SEARCHED', u'HA_VEH_COLOR',\n",
       "       u'HA_VEH_YEAR', u'HA_VEH_MODEL', u'HA_VEH_MAKE', u'race', u'sex',\n",
       "       u'age_at_time_of_stop'],\n",
       "      dtype='object')"
      ]
     },
     "execution_count": 29,
     "metadata": {},
     "output_type": "execute_result"
    }
   ],
   "source": [
    "stop_data.columns"
   ]
  },
  {
   "cell_type": "code",
   "execution_count": 24,
   "metadata": {
    "collapsed": false
   },
   "outputs": [],
   "source": [
    "stop_data['race'] = stop_data.HA_Race_Sex.apply(lambda x: x[0])\n",
    "stop_data['sex'] = stop_data.HA_Race_Sex.apply(lambda x: x[1])\n",
    "stop_data['age_at_time_of_stop'] = (stop_data['arrest_date'] - stop_data['birth_date']).apply(lambda x: (x / np.timedelta64(365, 'D')).astype(int))"
   ]
  },
  {
   "cell_type": "markdown",
   "metadata": {},
   "source": [
    "# Group by day-of-week"
   ]
  },
  {
   "cell_type": "code",
   "execution_count": 28,
   "metadata": {
    "collapsed": false
   },
   "outputs": [],
   "source": [
    "stops_by_day_of_week = stop_data.groupby([\"HA_DAY_OF_WEEK\"]).count()"
   ]
  },
  {
   "cell_type": "markdown",
   "metadata": {},
   "source": [
    "# Group by race and search"
   ]
  },
  {
   "cell_type": "code",
   "execution_count": 34,
   "metadata": {
    "collapsed": false
   },
   "outputs": [],
   "source": [
    "stops_by_race_search = stop_data.groupby(['race','HA_SEARCHED'],as_index=False).agg({'HA_Arrest_Key':lambda x: len(x.unique())})"
   ]
  },
  {
   "cell_type": "markdown",
   "metadata": {},
   "source": [
    "# Selecting, renaming, and dropping"
   ]
  },
  {
   "cell_type": "code",
   "execution_count": 49,
   "metadata": {
    "collapsed": false
   },
   "outputs": [],
   "source": [
    "searched = stops_by_race_search[stops_by_race_search.HA_SEARCHED == 1].rename(columns={'HA_Arrest_Key':'searched_count'}).drop('HA_SEARCHED',axis=1)\n",
    "nonsearched = stops_by_race_search[stops_by_race_search.HA_SEARCHED == 0].rename(columns={'HA_Arrest_Key':'nonsearched_count'}).drop('HA_SEARCHED',axis=1)"
   ]
  },
  {
   "cell_type": "markdown",
   "metadata": {},
   "source": [
    "# Comparing search rates"
   ]
  },
  {
   "cell_type": "code",
   "execution_count": 55,
   "metadata": {
    "collapsed": false
   },
   "outputs": [],
   "source": [
    "search_by_race = pd.merge(nonsearched, searched, on='race',how='inner')\n",
    "search_by_race['total'] = search_by_race['nonsearched_count'] + search_by_race['searched_count']\n",
    "search_by_race['search_percentage'] = search_by_race['searched_count'] / search_by_race['total']"
   ]
  },
  {
   "cell_type": "code",
   "execution_count": 56,
   "metadata": {
    "collapsed": false
   },
   "outputs": [
    {
     "data": {
      "text/html": [
       "<div>\n",
       "<table border=\"1\" class=\"dataframe\">\n",
       "  <thead>\n",
       "    <tr style=\"text-align: right;\">\n",
       "      <th></th>\n",
       "      <th>race</th>\n",
       "      <th>nonsearched_count</th>\n",
       "      <th>searched_count</th>\n",
       "      <th>total</th>\n",
       "      <th>search_percentage</th>\n",
       "    </tr>\n",
       "  </thead>\n",
       "  <tbody>\n",
       "    <tr>\n",
       "      <th>0</th>\n",
       "      <td>B</td>\n",
       "      <td>527</td>\n",
       "      <td>6</td>\n",
       "      <td>533</td>\n",
       "      <td>0.011257</td>\n",
       "    </tr>\n",
       "    <tr>\n",
       "      <th>1</th>\n",
       "      <td>H</td>\n",
       "      <td>822</td>\n",
       "      <td>28</td>\n",
       "      <td>850</td>\n",
       "      <td>0.032941</td>\n",
       "    </tr>\n",
       "    <tr>\n",
       "      <th>2</th>\n",
       "      <td>U</td>\n",
       "      <td>353</td>\n",
       "      <td>7</td>\n",
       "      <td>360</td>\n",
       "      <td>0.019444</td>\n",
       "    </tr>\n",
       "    <tr>\n",
       "      <th>3</th>\n",
       "      <td>W</td>\n",
       "      <td>3127</td>\n",
       "      <td>27</td>\n",
       "      <td>3154</td>\n",
       "      <td>0.008561</td>\n",
       "    </tr>\n",
       "  </tbody>\n",
       "</table>\n",
       "</div>"
      ],
      "text/plain": [
       "  race  nonsearched_count  searched_count  total  search_percentage\n",
       "0    B                527               6    533           0.011257\n",
       "1    H                822              28    850           0.032941\n",
       "2    U                353               7    360           0.019444\n",
       "3    W               3127              27   3154           0.008561"
      ]
     },
     "execution_count": 56,
     "metadata": {},
     "output_type": "execute_result"
    }
   ],
   "source": [
    "search_by_race"
   ]
  },
  {
   "cell_type": "code",
   "execution_count": null,
   "metadata": {
    "collapsed": true
   },
   "outputs": [],
   "source": []
  }
 ],
 "metadata": {
  "kernelspec": {
   "display_name": "Python 2",
   "language": "python",
   "name": "python2"
  },
  "language_info": {
   "codemirror_mode": {
    "name": "ipython",
    "version": 2
   },
   "file_extension": ".py",
   "mimetype": "text/x-python",
   "name": "python",
   "nbconvert_exporter": "python",
   "pygments_lexer": "ipython2",
   "version": "2.7.11"
  }
 },
 "nbformat": 4,
 "nbformat_minor": 0
}
